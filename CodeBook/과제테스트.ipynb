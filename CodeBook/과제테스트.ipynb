{
 "cells": [
  {
   "cell_type": "markdown",
   "metadata": {},
   "source": [
    "# json 파일 다루기"
   ]
  },
  {
   "cell_type": "code",
   "execution_count": null,
   "metadata": {},
   "outputs": [],
   "source": [
    "import json\n",
    "\n",
    "# JSON 파일 열기\n",
    "with open('./data/input/customer.json', 'r') as f:\n",
    "    customers = json.load(f)\n",
    "\n",
    "#### 1번 ####\n",
    "# 전체 고객 수 계산\n",
    "total_customers = len(customers)\n",
    "print(total_customers)\n",
    "\n",
    "# 결과를 JSON 파일로 저장\n",
    "with open('./data/output/problem_1.json', 'w') as f:\n",
    "    json.dump({\"total\": total_customers}, f)\n",
    "\n",
    "#### 2번 ####\n",
    "# 휴면 상태의 고객 ID 리스트 생성 (고객 ID는 문자열 형태라 가정)\n",
    "dormant_customers = sorted([customer['customer_id'] for customer in customers if customer['status'] == 'dormant'])\n",
    "\n",
    "# 결과를 JSON 파일로 저장\n",
    "with open('./data/output/problem_2.json', 'w') as f:\n",
    "    json.dump(dormant_customers, f)"
   ]
  },
  {
   "cell_type": "code",
   "execution_count": null,
   "metadata": {},
   "outputs": [],
   "source": [
    "import pandas as pd\n",
    "\n",
    "# JSON 데이터를 DataFrame으로 변환\n",
    "df = pd.DataFrame(customers)\n",
    "\n",
    "# DataFrame의 요약 정보 출력\n",
    "print(df.info())\n",
    "print(df.describe(include='all'))"
   ]
  }
 ],
 "metadata": {
  "language_info": {
   "name": "python"
  }
 },
 "nbformat": 4,
 "nbformat_minor": 2
}
