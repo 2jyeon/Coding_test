{
 "cells": [
  {
   "cell_type": "markdown",
   "metadata": {},
   "source": [
    "# 문제\n",
    "정수 A를 B로 바꾸려고 한다. 가능한 연산은 다음과 같은 두 가지이다.\n",
    "\n",
    "2를 곱한다.  \n",
    "1을 수의 가장 오른쪽에 추가한다.   \n",
    "A를 B로 바꾸는데 필요한 연산의 최솟값을 구해보자.  \n",
    "\n",
    "## 입력\n",
    "첫째 줄에 A, B (1 ≤ A < B ≤ 109)가 주어진다.\n",
    "\n",
    "## 출력\n",
    "A를 B로 바꾸는데 필요한 연산의 최솟값에 1을 더한 값을 출력한다. 만들 수 없는 경우에는 -1을 출력한다.\n",
    "\n",
    "## 예제 \n",
    "### 예제 입력 1 \n",
    "2 162\n",
    "### 예제 출력 1 \n",
    "5  \n",
    "2 → 4 → 8 → 81 → 162\n",
    "\n",
    "### 예제 입력 2 \n",
    "4 42\n",
    "### 예제 출력 2 \n",
    "-1\n",
    "### 예제 입력 3 \n",
    "100 40021\n",
    "### 예제 출력 3 \n",
    "5  \n",
    "100 → 200 → 2001 → 4002 → 40021"
   ]
  },
  {
   "cell_type": "markdown",
   "metadata": {},
   "source": [
    "# 풀이"
   ]
  },
  {
   "cell_type": "code",
   "execution_count": 12,
   "metadata": {},
   "outputs": [
    {
     "name": "stdout",
     "output_type": "stream",
     "text": [
      "-1\n"
     ]
    }
   ],
   "source": [
    "a, b = map(int, input().split())\n",
    "\n",
    "b_str = str(b)\n",
    "cnt = 0\n",
    "\n",
    "while int(b_str) > a:\n",
    "    cnt += 1\n",
    "    if b_str[-1] == '1':\n",
    "        b_str = b_str[:-1]\n",
    "    elif int(b_str) % 2 == 0:\n",
    "        b_str = str(int(b_str) // 2)\n",
    "    else:\n",
    "        print(-1)\n",
    "        break\n",
    "    # print(cnt, b_str)\n",
    "    if int(b_str) == a:\n",
    "        print(cnt + 1)\n",
    "        break\n",
    "else: print(-1)"
   ]
  }
 ],
 "metadata": {
  "kernelspec": {
   "display_name": "bigcon_env",
   "language": "python",
   "name": "python3"
  },
  "language_info": {
   "codemirror_mode": {
    "name": "ipython",
    "version": 3
   },
   "file_extension": ".py",
   "mimetype": "text/x-python",
   "name": "python",
   "nbconvert_exporter": "python",
   "pygments_lexer": "ipython3",
   "version": "3.10.6"
  },
  "orig_nbformat": 4
 },
 "nbformat": 4,
 "nbformat_minor": 2
}
