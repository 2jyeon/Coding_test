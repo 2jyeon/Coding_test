{
 "cells": [
  {
   "cell_type": "markdown",
   "metadata": {},
   "source": [
    "목표: 바구니 이동거리 최솟값  \n",
    "최대한 적게 이동한다 = 사과가 떨어지는 칸에 해당하면 안움직이고, 해당하지 않는다면 사이드의 칸이 사과를 받도록 움직인다."
   ]
  },
  {
   "cell_type": "code",
   "execution_count": 66,
   "metadata": {},
   "outputs": [
    {
     "name": "stdout",
     "output_type": "stream",
     "text": [
      "stay\n",
      "[0, 0, 0, 0, 1]\n",
      "[0, 0, 1, 0, 0]\n"
     ]
    }
   ],
   "source": [
    "# 값 입력받기\n",
    "n, m = map(int, input().split())\n",
    "j = int(input())\n",
    "\n",
    "apple = []\n",
    "for i in range(j):\n",
    "    apple.append(int(input()))\n",
    "\n",
    "# 스크린 위에 처음 바구니 위치 입력\n",
    "board = [1] * m + [0] * (n - m)\n",
    "\n",
    "# 이동거리\n",
    "move = 0\n",
    "\n",
    "# 사과 한개 씩 돌면서\n",
    "for a in apple:\n",
    "    # 인덱스 번호\n",
    "    a = a - 1\n",
    "    # 사과 위치에 바구니가 없을 때에만 이동\n",
    "    if board[a] == 0:\n",
    "        # 사과가 바구니 왼쪽으로 떨어지면 왼쪽으로 이동, 오른쪽으로 떨어지면 오른쪽으로 이동하는 게 최소 거리\n",
    "        l = a - board.index(1)\n",
    "        r = a - (n - 1 - board[::-1].index(1))\n",
    "        if l < 0:\n",
    "            min_v = l\n",
    "        else:\n",
    "            min_v = r\n",
    "        \n",
    "        # 스크린 위에서 바구니 움직이기\n",
    "        board2 = [0] * n\n",
    "        board2[board.index(1) + min_v : (n - 1 - board[::-1].index(1)) + min_v + 1] = [1] * m\n",
    "        board = board2\n",
    "\n",
    "        # 이동거리 더해주기\n",
    "        move += abs(min_v)\n",
    "print(move)"
   ]
  },
  {
   "cell_type": "markdown",
   "metadata": {},
   "source": [
    "# 다른 사람 풀이\n",
    "사과가 바구니 왼쪽으로 떨어지면 왼쪽으로 이동, 오른쪽으로 떨어지면 오른쪽으로 이동하는 게 최소 거리라는 아이디어는 유사한데, 보드를 만들어서 그걸 갱신하는 게 아니라 바구니 양 사이드 좌표 값만 바꿈"
   ]
  },
  {
   "cell_type": "code",
   "execution_count": null,
   "metadata": {},
   "outputs": [],
   "source": [
    "import sys\n",
    "input = sys.stdin.readline\n",
    "\n",
    "n, m = map(int, input().split())\n",
    "j = int(input())\n",
    "\n",
    "start = 1\n",
    "end = m\n",
    "distance = 0\n",
    "\n",
    "for _ in range(j):\n",
    "    target = int(input())\n",
    "    \n",
    "    if target < start:\n",
    "        distance += (start - target)\n",
    "        start = target\n",
    "        end = target + m - 1 # 이게 아이디어가 참 좋다,, 복잡하게 구할 필요 없이 반대편 사이드는 M - 1만큼 더해주면 되니까\n",
    "\n",
    "    elif target > end:\n",
    "        distance += (target - end)\n",
    "        end = target\n",
    "        start = end - m + 1\n",
    "\n",
    "print(distance)"
   ]
  }
 ],
 "metadata": {
  "kernelspec": {
   "display_name": "base",
   "language": "python",
   "name": "python3"
  },
  "language_info": {
   "codemirror_mode": {
    "name": "ipython",
    "version": 3
   },
   "file_extension": ".py",
   "mimetype": "text/x-python",
   "name": "python",
   "nbconvert_exporter": "python",
   "pygments_lexer": "ipython3",
   "version": "3.9.12"
  },
  "orig_nbformat": 4
 },
 "nbformat": 4,
 "nbformat_minor": 2
}
