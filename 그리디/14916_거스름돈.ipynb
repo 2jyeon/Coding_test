{
 "cells": [
  {
   "cell_type": "markdown",
   "metadata": {},
   "source": [
    "* 고려사항\n",
    "1. 2원과 5원으로만 거슬러 줄 수 있는가  \n",
    "2. 1. 거슬러줄 수 있다면, 가능한 조합 내에서 5원 개수가 최대한 많게\n",
    "   2. 거슬러줄 수 없다면 -1 출력\n",
    "\n",
    "---\n",
    "* 로직\n",
    "거슬러줄 수 있는지 알아보려면\n",
    "   * n이 홀수라면 5원도 무조건 홀수개.\n",
    "   * 2원과 5원의 최소공배수는 10원. -> 거스름돈 // 10 으로 연산"
   ]
  },
  {
   "cell_type": "code",
   "execution_count": 26,
   "metadata": {},
   "outputs": [
    {
     "name": "stdout",
     "output_type": "stream",
     "text": [
      "4\n"
     ]
    }
   ],
   "source": [
    "n = int(input())\n",
    "\n",
    "# 5원 홀수개 파악\n",
    "if n >= 5 and n % 2:\n",
    "    coin5 = 1\n",
    "    n -= 5\n",
    "else:\n",
    "    coin5 = 0\n",
    "\n",
    "# 남은 거스름돈에 대해 10의 배수만큼 5원 주기\n",
    "coin5 += n // 10 * 2\n",
    "\n",
    "# 10원 미만의 짝수 거스름돈에 대해 2원 주기\n",
    "tmp = n % 10\n",
    "coin2 = tmp // 2\n",
    "\n",
    "if tmp % 2:\n",
    "    print(-1)\n",
    "else:\n",
    "    print(coin5 + coin2)"
   ]
  },
  {
   "cell_type": "markdown",
   "metadata": {},
   "source": [
    "# 다른 사람 풀이\n",
    "5원으로 나누어떨어질 때 까지 2원을 계속 빼주기"
   ]
  },
  {
   "cell_type": "code",
   "execution_count": 35,
   "metadata": {},
   "outputs": [
    {
     "name": "stdout",
     "output_type": "stream",
     "text": [
      "5\n"
     ]
    }
   ],
   "source": [
    "n = int(input())\n",
    "\n",
    "cnt = 0\n",
    "while n > 0:\n",
    "    if n % 5 == 0:\n",
    "        cnt += n // 5 \n",
    "        n %= 5\n",
    "        break\n",
    "    else:\n",
    "        n -= 2\n",
    "        cnt += 1\n",
    "\n",
    "if n == 0:\n",
    "    print(cnt)\n",
    "else:\n",
    "    print(-1)"
   ]
  }
 ],
 "metadata": {
  "kernelspec": {
   "display_name": "bigcon_env",
   "language": "python",
   "name": "python3"
  },
  "language_info": {
   "codemirror_mode": {
    "name": "ipython",
    "version": 3
   },
   "file_extension": ".py",
   "mimetype": "text/x-python",
   "name": "python",
   "nbconvert_exporter": "python",
   "pygments_lexer": "ipython3",
   "version": "3.10.6"
  },
  "orig_nbformat": 4
 },
 "nbformat": 4,
 "nbformat_minor": 2
}
