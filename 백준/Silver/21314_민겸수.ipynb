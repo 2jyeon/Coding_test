{
 "cells": [
  {
   "cell_type": "markdown",
   "metadata": {},
   "source": [
    "최대랑 최소 규칙을 찾아보자.  \n",
    "문자열을 쪼갤 때 k 는 한개밖에 있을 수 없다. -> k 로 쪼갠다.\n",
    "가장 큰 수는 그대로 이어붙이기\n",
    "가장 작은 수는 m으로 또 쪼개기\n",
    "단, mm은 m m 1 1 보다는 mm 10이 더 작다"
   ]
  },
  {
   "cell_type": "code",
   "execution_count": 41,
   "metadata": {},
   "outputs": [],
   "source": [
    "s = input()"
   ]
  },
  {
   "cell_type": "code",
   "execution_count": 46,
   "metadata": {},
   "outputs": [],
   "source": [
    "maxresult = ''\n",
    "maxold = s[0]\n",
    "\n",
    "minresult = ''\n",
    "minold = s[0]"
   ]
  },
  {
   "cell_type": "code",
   "execution_count": 47,
   "metadata": {},
   "outputs": [
    {
     "name": "stdout",
     "output_type": "stream",
     "text": [
      "K M 15\n",
      "M M\n",
      "501\n",
      "151\n"
     ]
    }
   ],
   "source": [
    "\n",
    "for i in s[1:]:\n",
    "    \n",
    "    if i == 'K':\n",
    "        maxresult += str(5 * 10**len(maxold))\n",
    "        if minold != '':\n",
    "            minresult += str(10 ** (len(minold)-1)) \n",
    "        minresult += str(5)\n",
    "        print(i, minold, minresult)\n",
    "        maxold = ''\n",
    "        minold = ''\n",
    "        \n",
    "    else:\n",
    "        maxold += i\n",
    "        minold += i\n",
    "        print(i, minold)\n",
    "\n",
    "if s[-1] == 'M':\n",
    "    maxresult += str(10 ** (len(maxold)-1))\n",
    "    minresult += str(10 ** (len(minold)-1)) \n",
    "print(maxresult)\n",
    "print(minresult)"
   ]
  },
  {
   "cell_type": "code",
   "execution_count": 52,
   "metadata": {},
   "outputs": [],
   "source": [
    "s = 'KKK'"
   ]
  },
  {
   "cell_type": "code",
   "execution_count": 57,
   "metadata": {},
   "outputs": [
    {
     "data": {
      "text/plain": [
       "'11'"
      ]
     },
     "execution_count": 57,
     "metadata": {},
     "output_type": "execute_result"
    }
   ],
   "source": [
    "str(1)*2"
   ]
  },
  {
   "cell_type": "code",
   "execution_count": 59,
   "metadata": {},
   "outputs": [
    {
     "name": "stdout",
     "output_type": "stream",
     "text": [
      "111\n",
      "100\n"
     ]
    }
   ],
   "source": [
    "s = input()\n",
    "maxresult = ''\n",
    "minresult = ''\n",
    "\n",
    "while True:\n",
    "    if len(s) > 0 and s[0] == 'K':\n",
    "        maxresult += str(5)\n",
    "        minresult += str(5)\n",
    "        s = s[1:]\n",
    "    else:\n",
    "        break\n",
    "if len(s) == 0:\n",
    "    print(maxresult)\n",
    "    print(minresult)\n",
    "else:\n",
    "    maxold = s[0]\n",
    "    minold = s[0]\n",
    "    for i in s[1:]:\n",
    "        \n",
    "        if i == 'K':\n",
    "            maxresult += str(5 * 10**len(maxold))\n",
    "            if minold != '':\n",
    "                minresult += str(10 ** (len(minold)-1)) \n",
    "            minresult += str(5)\n",
    "            maxold = ''\n",
    "            minold = ''\n",
    "            \n",
    "        else:\n",
    "            maxold += i\n",
    "            minold += i\n",
    "\n",
    "    if s[-1] == 'M':\n",
    "        maxresult += str(1) * (len(maxold))\n",
    "        minresult += str(10 ** (len(minold)-1)) \n",
    "    print(maxresult)\n",
    "    print(minresult)"
   ]
  }
 ],
 "metadata": {
  "kernelspec": {
   "display_name": "bigcon_env",
   "language": "python",
   "name": "python3"
  },
  "language_info": {
   "codemirror_mode": {
    "name": "ipython",
    "version": 3
   },
   "file_extension": ".py",
   "mimetype": "text/x-python",
   "name": "python",
   "nbconvert_exporter": "python",
   "pygments_lexer": "ipython3",
   "version": "3.10.6"
  },
  "orig_nbformat": 4
 },
 "nbformat": 4,
 "nbformat_minor": 2
}
