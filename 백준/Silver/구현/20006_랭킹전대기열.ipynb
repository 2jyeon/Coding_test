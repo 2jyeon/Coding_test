{
 "cells": [
  {
   "cell_type": "markdown",
   "metadata": {},
   "source": [
    "# 다른사람 풀이"
   ]
  },
  {
   "cell_type": "code",
   "execution_count": null,
   "metadata": {},
   "outputs": [],
   "source": [
    "p, m = map(int, input().split())\n",
    "room_list = list()\n",
    "\n",
    "for _ in range(p) :\n",
    "  l, n = input().split()\n",
    "  l = int(l)\n",
    "  flg = False\n",
    "  for _room_list in room_list :\n",
    "    if len(_room_list) < m and abs(l - _room_list[0][0]) <= 10 :\n",
    "      _room_list.append((l, n))\n",
    "      flg = True\n",
    "      break\n",
    "  if not flg :\n",
    "    room_list.append([(l, n)])\n",
    "\n",
    "for _room_list in room_list :\n",
    "  print('Started!' if len(_room_list) == m else 'Waiting!')\n",
    "  _room_list.sort(key = lambda x : x[-1])\n",
    "  for l, n in _room_list :\n",
    "    print(l, n)"
   ]
  }
 ],
 "metadata": {
  "kernelspec": {
   "display_name": "bigcon_env",
   "language": "python",
   "name": "python3"
  },
  "language_info": {
   "codemirror_mode": {
    "name": "ipython",
    "version": 3
   },
   "file_extension": ".py",
   "mimetype": "text/x-python",
   "name": "python",
   "nbconvert_exporter": "python",
   "pygments_lexer": "ipython3",
   "version": "3.10.6"
  },
  "orig_nbformat": 4
 },
 "nbformat": 4,
 "nbformat_minor": 2
}
