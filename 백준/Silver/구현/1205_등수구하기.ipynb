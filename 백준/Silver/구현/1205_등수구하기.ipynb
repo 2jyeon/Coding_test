{
 "cells": [
  {
   "cell_type": "code",
   "execution_count": null,
   "metadata": {},
   "outputs": [],
   "source": [
    "n, score, p = map(int, input().split())\n",
    "if n == 0:\n",
    "        print(1)\n",
    "else:\n",
    "    ranking = list(map(int, input().split()))\n",
    "    if n == p and ranking[-1] >= score:\n",
    "        print(-1)\n",
    "    else:\n",
    "        rank = n + 1\n",
    "        for i in range(n):\n",
    "            if ranking[i] <= score:\n",
    "                rank = i + 1\n",
    "                break\n",
    "        print(rank)  "
   ]
  }
 ],
 "metadata": {
  "kernelspec": {
   "display_name": "bigcon_env",
   "language": "python",
   "name": "python3"
  },
  "language_info": {
   "codemirror_mode": {
    "name": "ipython",
    "version": 3
   },
   "file_extension": ".py",
   "mimetype": "text/x-python",
   "name": "python",
   "nbconvert_exporter": "python",
   "pygments_lexer": "ipython3",
   "version": "3.10.6"
  },
  "orig_nbformat": 4
 },
 "nbformat": 4,
 "nbformat_minor": 2
}
