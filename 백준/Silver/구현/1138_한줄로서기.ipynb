{
 "cells": [
  {
   "cell_type": "code",
   "execution_count": null,
   "metadata": {},
   "outputs": [],
   "source": [
    "n = int(input())\n",
    "s = list(map(int, input().split()))\n",
    "a = [n]\n",
    "for i in range(n-1, 0, -1):\n",
    "    no = s[i-1]\n",
    "    \n",
    "    if no == 0:\n",
    "        a = [i] + a\n",
    "    else:\n",
    "        a = a[:no] + [i] + a[no:]\n",
    "for i in a:\n",
    "    print(i, end=' ')"
   ]
  },
  {
   "cell_type": "markdown",
   "metadata": {},
   "source": [
    "## 다른 사람 풀이\n",
    "그치.. insert쓰면 간단하지,,\n"
   ]
  },
  {
   "cell_type": "code",
   "execution_count": 93,
   "metadata": {},
   "outputs": [],
   "source": [
    "N=int(input())\n",
    "h=list(map(int,input().split()))[::-1]"
   ]
  },
  {
   "cell_type": "code",
   "execution_count": 94,
   "metadata": {},
   "outputs": [
    {
     "data": {
      "text/plain": [
       "[0, 0, 2, 1, 1, 1, 6]"
      ]
     },
     "execution_count": 94,
     "metadata": {},
     "output_type": "execute_result"
    }
   ],
   "source": [
    "h"
   ]
  },
  {
   "cell_type": "code",
   "execution_count": 95,
   "metadata": {},
   "outputs": [
    {
     "name": "stdout",
     "output_type": "stream",
     "text": [
      "0 [7]\n",
      "0 [6, 7]\n",
      "2 [6, 7, 5]\n",
      "1 [6, 4, 7, 5]\n",
      "1 [6, 3, 4, 7, 5]\n",
      "1 [6, 2, 3, 4, 7, 5]\n",
      "6 [6, 2, 3, 4, 7, 5, 1]\n",
      "6 2 3 4 7 5 1\n"
     ]
    }
   ],
   "source": [
    "o=[]\n",
    "for i in h: # 제일 큰 사람부터 시작\n",
    "    o.insert(i,N) # i번째 위치에 사람번호 삽입\n",
    "    print(i, o)\n",
    "    N-=1 # 그 다음으로 큰 사람\n",
    "print(*o)"
   ]
  }
 ],
 "metadata": {
  "kernelspec": {
   "display_name": "bigcon_env",
   "language": "python",
   "name": "python3"
  },
  "language_info": {
   "codemirror_mode": {
    "name": "ipython",
    "version": 3
   },
   "file_extension": ".py",
   "mimetype": "text/x-python",
   "name": "python",
   "nbconvert_exporter": "python",
   "pygments_lexer": "ipython3",
   "version": "3.10.6"
  },
  "orig_nbformat": 4
 },
 "nbformat": 4,
 "nbformat_minor": 2
}
