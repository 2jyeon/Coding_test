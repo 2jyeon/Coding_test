{
 "cells": [
  {
   "cell_type": "markdown",
   "metadata": {},
   "source": [
    "# dfs\n",
    "dfs 에서 필요한 것\n",
    "1. 그래프\n",
    "2. 방문여부\n",
    "3. dfs함수 - 재귀"
   ]
  },
  {
   "cell_type": "code",
   "execution_count": 40,
   "metadata": {},
   "outputs": [],
   "source": [
    "# 값 입력\n",
    "n, m, v = map(int, input().split())\n",
    "\n",
    "# 그래프\n",
    "graph = [[] for _ in range(n+1)]\n",
    "for _ in range(m):\n",
    "    a, b = map(int, input().split())\n",
    "    graph[a].append(b)\n",
    "    graph[b].append(a)\n",
    "    graph[a].sort()\n",
    "    graph[b].sort()\n",
    "\n",
    "# 방문 여부 체크용\n",
    "visited = [False] * (n+1)\n",
    "\n"
   ]
  },
  {
   "cell_type": "code",
   "execution_count": 41,
   "metadata": {},
   "outputs": [
    {
     "data": {
      "text/plain": [
       "[[], [2, 3], [1, 5], [1, 4], [3, 5], [2, 4]]"
      ]
     },
     "execution_count": 41,
     "metadata": {},
     "output_type": "execute_result"
    }
   ],
   "source": [
    "graph"
   ]
  },
  {
   "cell_type": "code",
   "execution_count": 42,
   "metadata": {},
   "outputs": [
    {
     "name": "stdout",
     "output_type": "stream",
     "text": [
      "3 1 2 5 4 "
     ]
    }
   ],
   "source": [
    "# dfs 함수\n",
    "def dfs(graph, now, visited):\n",
    "    # 현재 노드 방문 처리\n",
    "    visited[now] = True\n",
    "    print(now, end=' ')\n",
    "\n",
    "    for i in graph[now]:\n",
    "        if not visited[i]:\n",
    "            dfs(graph, i, visited)\n",
    "\n",
    "# 주어진대로 v부터 탐색하도록 dfs 수행\n",
    "dfs(graph, v, visited)"
   ]
  },
  {
   "cell_type": "markdown",
   "metadata": {},
   "source": [
    "# bfs\n",
    "bfs 에서 필요한 것\n",
    "1. 그래프\n",
    "2. 방문여부\n",
    "3. bfs 함수 - while queue\n",
    "4. from collections import deque"
   ]
  },
  {
   "cell_type": "code",
   "execution_count": 43,
   "metadata": {},
   "outputs": [
    {
     "name": "stdout",
     "output_type": "stream",
     "text": [
      "3 1 4 2 5 "
     ]
    }
   ],
   "source": [
    "# 4. from collections import deque\n",
    "from collections import deque\n",
    "\n",
    "visited = [False] * (n+1)\n",
    "\n",
    "def bfs(graph, start, visited):\n",
    "    queue = deque([start])\n",
    "    visited[start] = True\n",
    "\n",
    "    while queue:\n",
    "        now = queue.popleft()\n",
    "        print(now, end=' ')\n",
    "\n",
    "        for i in graph[now]:\n",
    "            if not visited[i]:\n",
    "                queue.append(i)\n",
    "                visited[i] = True\n",
    "\n",
    "bfs(graph, v, visited)"
   ]
  },
  {
   "cell_type": "code",
   "execution_count": 48,
   "metadata": {},
   "outputs": [
    {
     "name": "stdout",
     "output_type": "stream",
     "text": [
      "3 1 2 5 4 \n",
      "3 1 2 5 4 "
     ]
    }
   ],
   "source": [
    "\n",
    "# 방문 여부 체크용\n",
    "visited = [False] * (n+1)\n",
    "\n",
    "# dfs\n",
    "def dfs(graph, now, visited):\n",
    "    # 현재 노드 방문 처리\n",
    "    visited[now] = True\n",
    "    print(now, end=' ')\n",
    "\n",
    "    for i in graph[now]:\n",
    "        if not visited[i]:\n",
    "            dfs(graph, i, visited)\n",
    "\n",
    "# 주어진대로 v부터 탐색하도록 dfs 수행\n",
    "dfs(graph, v, visited)\n",
    "print()\n",
    "# bfs\n",
    "from collections import deque\n",
    "def bfs(graph, start, visited):\n",
    "    queue = deque([start])\n",
    "    visited[start] = True\n",
    "\n",
    "    while queue:\n",
    "        now = queue.popleft()\n",
    "        print(now, end=' ')\n",
    "\n",
    "        for i in graph[now]:\n",
    "            if not visited[i]:\n",
    "                queue.append(i)\n",
    "                visited[i] = True\n",
    "\n",
    "# 방문 여부 체크용\n",
    "visited = [False] * (n+1)\n",
    "\n",
    "# 주어진대로 v부터 탐색하도록 bfs 수행\n",
    "bfs(graph, v, visited)"
   ]
  }
 ],
 "metadata": {
  "kernelspec": {
   "display_name": "base",
   "language": "python",
   "name": "python3"
  },
  "language_info": {
   "codemirror_mode": {
    "name": "ipython",
    "version": 3
   },
   "file_extension": ".py",
   "mimetype": "text/x-python",
   "name": "python",
   "nbconvert_exporter": "python",
   "pygments_lexer": "ipython3",
   "version": "3.9.12"
  },
  "orig_nbformat": 4
 },
 "nbformat": 4,
 "nbformat_minor": 2
}
