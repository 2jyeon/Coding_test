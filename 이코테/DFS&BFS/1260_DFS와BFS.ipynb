{
 "cells": [
  {
   "cell_type": "code",
   "execution_count": null,
   "metadata": {},
   "outputs": [],
   "source": [
    "from sys import stdin\n",
    "from collections import deque\n",
    "\n",
    "n, m, v = map(int, stdin.readline().split())\n",
    "matrix = [[0] * (n+1) for _ in range(n+1)]\n",
    "\n",
    "for _ in range(m):\n",
    "    data = list(map(int, stdin.readline().split()))\n",
    "    matrix[data[0]][data[1]] = 1\n",
    "    matrix[data[1]][data[0]] = 1\n",
    "\n",
    "\n",
    "def dfs(start, visited):\n",
    "    visited += [start]\n",
    "    for i in range(len(matrix[start])):\n",
    "            if matrix[start][i] == 1 and i not in visited:\n",
    "                dfs(i, visited)\n",
    "    return visited\n",
    "\n",
    "def bfs(start):\n",
    "    visited += [start]\n",
    "    queue = deque([start])\n",
    "\n",
    "    while queue:\n",
    "         n = queue.popleft()\n",
    "         for i in range(len(matrix[start])):\n",
    "            if matrix[n][i] == 1 and i not in visited:\n",
    "                visited.append(i)\n",
    "            queue.append(i)\n",
    "    return visited\n",
    "\n",
    "print(*dfs(v, []))\n",
    "print(*bfs(v))"
   ]
  },
  {
   "cell_type": "markdown",
   "metadata": {},
   "source": [
    "# dfs\n",
    "dfs 에서 필요한 것\n",
    "1. 그래프\n",
    "2. 방문여부\n",
    "3. dfs함수 - 재귀"
   ]
  },
  {
   "cell_type": "code",
   "execution_count": 2,
   "metadata": {},
   "outputs": [],
   "source": [
    "# 값 입력\n",
    "n, m, v = map(int, input().split())\n",
    "\n",
    "# 그래프\n",
    "graph = [[] for _ in range(n+1)]\n",
    "for _ in range(m):\n",
    "    a, b = map(int, input().split())\n",
    "    graph[a].append(b)\n",
    "\n",
    "# 방문 여부 체크용\n",
    "visited = [False] * (n+1)\n",
    "\n",
    "# dfs 함수\n",
    "def dfs(graph, now, visited):\n",
    "    # 현재 노드 방문 처리\n",
    "    visited[now] = True\n",
    "    print(now, end=' ')\n",
    "\n",
    "    for i in graph[now]:\n",
    "        if not visited[i]:\n",
    "            dfs(graph, i, visited)\n",
    "\n",
    "# 주어진대로 v부터 탐색하도록 dfs 수행\n",
    "dfs(graph, v, visited)"
   ]
  },
  {
   "cell_type": "markdown",
   "metadata": {},
   "source": [
    "# bfs\n"
   ]
  },
  {
   "cell_type": "code",
   "execution_count": 4,
   "metadata": {},
   "outputs": [],
   "source": []
  },
  {
   "cell_type": "code",
   "execution_count": 5,
   "metadata": {},
   "outputs": [
    {
     "name": "stdout",
     "output_type": "stream",
     "text": [
      "1 2 4 3 "
     ]
    }
   ],
   "source": []
  }
 ],
 "metadata": {
  "kernelspec": {
   "display_name": "base",
   "language": "python",
   "name": "python3"
  },
  "language_info": {
   "codemirror_mode": {
    "name": "ipython",
    "version": 3
   },
   "file_extension": ".py",
   "mimetype": "text/x-python",
   "name": "python",
   "nbconvert_exporter": "python",
   "pygments_lexer": "ipython3",
   "version": "3.9.12"
  },
  "orig_nbformat": 4
 },
 "nbformat": 4,
 "nbformat_minor": 2
}
