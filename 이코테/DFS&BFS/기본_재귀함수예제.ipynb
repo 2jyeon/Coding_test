{
 "cells": [
  {
   "cell_type": "code",
   "execution_count": 2,
   "metadata": {},
   "outputs": [
    {
     "name": "stdout",
     "output_type": "stream",
     "text": [
      "1 번째 재귀함수에서 2 번째 재귀함수를 호출합니다.\n",
      "2 번째 재귀함수에서 3 번째 재귀함수를 호출합니다.\n",
      "3 번째 재귀함수에서 4 번째 재귀함수를 호출합니다.\n",
      "4 번째 재귀함수에서 5 번째 재귀함수를 호출합니다.\n",
      "4 번재 재귀함수를 종료합니다.\n",
      "3 번재 재귀함수를 종료합니다.\n",
      "2 번재 재귀함수를 종료합니다.\n",
      "1 번재 재귀함수를 종료합니다.\n"
     ]
    }
   ],
   "source": [
    "def recursive_function(i):\n",
    "    # 5번째 출력했을 때 종료\n",
    "    if i == 5:\n",
    "        return\n",
    "    print(i, '번째 재귀함수에서', i + 1, '번째 재귀함수를 호출합니다.')\n",
    "    recursive_function(i + 1)\n",
    "    print(i, '번재 재귀함수를 종료합니다.')\n",
    "\n",
    "\n",
    "recursive_function(1)\n",
    "\n",
    "# recursive_function(1) \n",
    "    # 1 번째 재귀함수에서 2 번째 재귀함수를 호출합니다.\n",
    "    # recursive_function(2) \n",
    "    #     2 번째 재귀함수에서 3 번째 재귀함수를 호출합니다.\n",
    "    #     recursive_function(3) \n",
    "    #         3 번째 재귀함수에서 4 번째 재귀함수를 호출합니다.\n",
    "    #         recursive_function(4) \n",
    "    #             4 번째 재귀함수에서 5 번째 재귀함수를 호출합니다.\n",
    "    #             recursive_function(5) \n",
    "    #             4 번재 재귀함수를 종료합니다.   \n",
    "    #         3 번재 재귀함수를 종료합니다.\n",
    "    #     2 번재 재귀함수를 종료합니다.\n",
    "    # 1 번재 재귀함수를 종료합니다."
   ]
  }
 ],
 "metadata": {
  "kernelspec": {
   "display_name": "base",
   "language": "python",
   "name": "python3"
  },
  "language_info": {
   "codemirror_mode": {
    "name": "ipython",
    "version": 3
   },
   "file_extension": ".py",
   "mimetype": "text/x-python",
   "name": "python",
   "nbconvert_exporter": "python",
   "pygments_lexer": "ipython3",
   "version": "3.9.12"
  },
  "orig_nbformat": 4
 },
 "nbformat": 4,
 "nbformat_minor": 2
}
