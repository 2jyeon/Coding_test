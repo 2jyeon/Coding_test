{
 "cells": [
  {
   "cell_type": "code",
   "execution_count": null,
   "metadata": {},
   "outputs": [],
   "source": [
    "# dfs에서 필요한 것:\n",
    "# 1. 그래프 (각 노드가 연결된 정보를 인접 리스트(2차원)로 표현한 것)\n",
    "# 2. 방문여부 (각 노드의 방문여부를 표시할 1차원 리스트)\n",
    "# 3. dfs 함수 - 재귀"
   ]
  },
  {
   "cell_type": "code",
   "execution_count": 1,
   "metadata": {},
   "outputs": [
    {
     "name": "stdout",
     "output_type": "stream",
     "text": [
      "1 2 7 6 8 3 4 5 "
     ]
    }
   ],
   "source": [
    "# 1. 그래프\n",
    "graph = [\n",
    "    [], # 인덱스 직관적으로 쓰기 위해 처음에 빈 리스트 넣기\n",
    "    [2, 3, 8], # 1번 노드와 인접한 노드\n",
    "    [1, 7],\n",
    "    [1, 4, 5],\n",
    "    [3, 5],\n",
    "    [3, 4],\n",
    "    [7],\n",
    "    [2, 6, 8],\n",
    "    [1, 7]\n",
    "]\n",
    "\n",
    "# 2. 방문여부\n",
    "visited = [False] * len(graph)\n",
    "\n",
    "# 3. dfs함수\n",
    "def dfs(graph, v, visited): # Node, Edge, Vertex정점\n",
    "    # 현재 노드 방문 처리 -> 이제 얘(v)가 vertex임\n",
    "    visited[v] = True\n",
    "    # 방문한 순서대로 출력해줄거니까\n",
    "    print(v, end=' ')\n",
    "\n",
    "    # vertex에게 인접한 노드들 방문\n",
    "    for i in graph[v]:\n",
    "        if not visited[i]:\n",
    "            dfs(graph, i, visited)\n",
    "\n",
    "dfs(graph, 1, visited)"
   ]
  }
 ],
 "metadata": {
  "kernelspec": {
   "display_name": "base",
   "language": "python",
   "name": "python3"
  },
  "language_info": {
   "codemirror_mode": {
    "name": "ipython",
    "version": 3
   },
   "file_extension": ".py",
   "mimetype": "text/x-python",
   "name": "python",
   "nbconvert_exporter": "python",
   "pygments_lexer": "ipython3",
   "version": "3.9.12"
  },
  "orig_nbformat": 4
 },
 "nbformat": 4,
 "nbformat_minor": 2
}
