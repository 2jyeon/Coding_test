{
 "cells": [
  {
   "cell_type": "code",
   "execution_count": null,
   "metadata": {},
   "outputs": [],
   "source": [
    "def dfs(graph, v, visited):\n",
    "    # 현재 노드를 방문 처리\n",
    "    visited[v] = True\n",
    "    print(v, end='')\n",
    "\n",
    "    # 현재 노드와 연결된 다른 노드를 재귀적으로 방문\n",
    "    for i in graph[v]:\n",
    "        if not visited[i]:\n",
    "            dfs(graph, i, visited)"
   ]
  },
  {
   "cell_type": "code",
   "execution_count": null,
   "metadata": {},
   "outputs": [],
   "source": [
    "# 각 노드가 연결된 정보\n",
    "graph = [\n",
    "    [],\n",
    "    [2, 3, 8],\n",
    "    [1, 7],\n",
    "    [1, 4, 5],\n",
    "    [3, 5],\n",
    "    [3, 4],\n",
    "    [7],\n",
    "    [2, 6, 8],\n",
    "    [1, 7]\n",
    "]\n",
    "\n",
    "# 각 노드의 방문 여부\n",
    "visited = [False] * 9\n",
    "\n",
    "dfs(graph, 1, visited)"
   ]
  }
 ],
 "metadata": {
  "language_info": {
   "name": "python"
  },
  "orig_nbformat": 4
 },
 "nbformat": 4,
 "nbformat_minor": 2
}
