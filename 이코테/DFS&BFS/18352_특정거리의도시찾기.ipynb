{
 "cells": [
  {
   "cell_type": "code",
   "execution_count": 16,
   "metadata": {},
   "outputs": [],
   "source": [
    "# 값 입력\n",
    "n, m, k, x = map(int, input().split())"
   ]
  },
  {
   "cell_type": "code",
   "execution_count": 17,
   "metadata": {},
   "outputs": [],
   "source": [
    "# 모든 도로 정보 입력\n",
    "graph = [[] for _ in range(n+1)]\n",
    "\n",
    "for _ in range(m):\n",
    "    a, b = map(int, input().split())\n",
    "    graph[a].append(b)"
   ]
  },
  {
   "cell_type": "code",
   "execution_count": 18,
   "metadata": {},
   "outputs": [
    {
     "data": {
      "text/plain": [
       "[[], [2, 3], [3, 4], [], []]"
      ]
     },
     "execution_count": 18,
     "metadata": {},
     "output_type": "execute_result"
    }
   ],
   "source": [
    "graph"
   ]
  },
  {
   "cell_type": "code",
   "execution_count": 22,
   "metadata": {},
   "outputs": [
    {
     "name": "stdout",
     "output_type": "stream",
     "text": [
      "now: 1\n",
      "next_node 2\n",
      "move\n",
      "[-1, 0, 1, -1, -1]\n",
      "next_node 3\n",
      "move\n",
      "[-1, 0, 1, 1, -1]\n",
      "now: 2\n",
      "next_node 3\n",
      "[-1, 0, 1, 1, -1]\n",
      "next_node 4\n",
      "move\n",
      "[-1, 0, 1, 1, 2]\n",
      "now: 3\n",
      "now: 4\n"
     ]
    }
   ],
   "source": [
    "# 모든 도시에 대한 최단거리 초기화\n",
    "dist = [-1] * (n+1)\n",
    "dist[x] = 0 # 출발 도시까지의 거리는 0으로\n",
    "\n",
    "from collections import deque\n",
    "q = deque([x])\n",
    "\n",
    "while q:\n",
    "    now = q.popleft()\n",
    "    print('now:', now)\n",
    "    # 현재 도시에서 이동할 수 있는 모든 도시 확인\n",
    "    for next_node in graph[now]:\n",
    "        print('next_node', next_node)\n",
    "        \n",
    "        if dist[next_node] == -1:\n",
    "            print('move')\n",
    "            dist[next_node] = dist[now] + 1\n",
    "            q.append(next_node)\n",
    "        print(dist)\n",
    "\n",
    "# 최단 거리가 k인 모든 도시의 번호를 오름차순으로 출력\n",
    "check = False\n",
    "for i in range(1, n+1):\n",
    "    if dist[i] == k:\n",
    "        print(i)\n",
    "        check = True\n",
    "\n",
    "# 없으면 -1\n",
    "if check == False:\n",
    "    print(-1)"
   ]
  }
 ],
 "metadata": {
  "kernelspec": {
   "display_name": "base",
   "language": "python",
   "name": "python3"
  },
  "language_info": {
   "codemirror_mode": {
    "name": "ipython",
    "version": 3
   },
   "file_extension": ".py",
   "mimetype": "text/x-python",
   "name": "python",
   "nbconvert_exporter": "python",
   "pygments_lexer": "ipython3",
   "version": "3.9.12"
  },
  "orig_nbformat": 4
 },
 "nbformat": 4,
 "nbformat_minor": 2
}
