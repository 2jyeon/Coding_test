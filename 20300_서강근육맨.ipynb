{
  "nbformat": 4,
  "nbformat_minor": 0,
  "metadata": {
    "colab": {
      "provenance": [],
      "authorship_tag": "ABX9TyMR/Q7dD2WBqE2Uxp8NCTqi",
      "include_colab_link": true
    },
    "kernelspec": {
      "name": "python3",
      "display_name": "Python 3"
    },
    "language_info": {
      "name": "python"
    }
  },
  "cells": [
    {
      "cell_type": "markdown",
      "metadata": {
        "id": "view-in-github",
        "colab_type": "text"
      },
      "source": [
        "<a href=\"https://colab.research.google.com/github/2jyeon/Coding_test/blob/main/20300_%EC%84%9C%EA%B0%95%EA%B7%BC%EC%9C%A1%EB%A7%A8.ipynb\" target=\"_parent\"><img src=\"https://colab.research.google.com/assets/colab-badge.svg\" alt=\"Open In Colab\"/></a>"
      ]
    },
    {
      "cell_type": "markdown",
      "source": [
        "1회이용에 운동기구 2개  \n",
        "중복x  \n",
        "1회 이용에 근손실 <= M  \n",
        "M의 최소값?"
      ],
      "metadata": {
        "id": "Fjl7oYWeoHmn"
      }
    },
    {
      "cell_type": "markdown",
      "source": [
        "* idea  \n",
        "  * 정렬 후 양 사이드에서 하나씩 페어. 이 때 max값이 M값\n",
        "    * N이 홀수이면 맨 앞에 근손실=0 추가  \n",
        "    * N이 최대 10,000개니까 일일이 해도 상관은 없을 것 같은데..?"
      ],
      "metadata": {
        "id": "u7CSYBLPozxG"
      }
    },
    {
      "cell_type": "code",
      "source": [
        "n = int(input())\n",
        "gnsonsil = list(map(int, input().split()))\n",
        "\n",
        "gnsonsil.sort()\n",
        "\n",
        "if n % 2:\n",
        "  gnsonsil = [0] + gnsonsil\n",
        "\n",
        "tmp_list = []\n",
        "for i in range(len(gnsonsil) // 2):\n",
        "  tmp_list.append(gnsonsil[i] + gnsonsil[-i - 1])\n",
        "\n",
        "print(max(tmp_list))"
      ],
      "metadata": {
        "colab": {
          "base_uri": "https://localhost:8080/"
        },
        "id": "7dIfnHvYqwsE",
        "outputId": "adbc661c-df69-484b-8958-9d5094a65a1b"
      },
      "execution_count": 14,
      "outputs": [
        {
          "output_type": "execute_result",
          "data": {
            "text/plain": [
              "[5, 5, 5]"
            ]
          },
          "metadata": {},
          "execution_count": 14
        }
      ]
    }
  ]
}