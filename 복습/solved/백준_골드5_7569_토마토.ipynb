{
 "cells": [
  {
   "cell_type": "markdown",
   "metadata": {},
   "source": [
    "https://www.acmicpc.net/problem/7569"
   ]
  },
  {
   "cell_type": "markdown",
   "metadata": {},
   "source": [
    "모든 1에 대하여 위 아래 앞 뒤 왼 오 6방향에 대해 -1이면 1로 처리해줘야함\n",
    "그러고 날짜 +1\n",
    "위 과정을 계속 반복.\n",
    "\n",
    "근데 만약에 토마토 개수가 변하지 않으면 더이상 퍼 8질 수 없는거니까 스탑하고 -1 출력\n",
    "\n",
    "---\n",
    "\n",
    "답은 나오는데 시간초과.. 다른 구조로 풀어야한다"
   ]
  },
  {
   "cell_type": "markdown",
   "metadata": {},
   "source": [
    "# 시간 초과 풀이"
   ]
  },
  {
   "cell_type": "code",
   "execution_count": 81,
   "metadata": {},
   "outputs": [
    {
     "name": "stdout",
     "output_type": "stream",
     "text": [
      "-1\n"
     ]
    }
   ],
   "source": [
    "from collections import deque\n",
    "import sys\n",
    "\n",
    "input=sys.stdin.readline\n",
    "\n",
    "m, n, h = map(int, input().split())\n",
    "board = []\n",
    "for _ in range(n * h):\n",
    "    board.append(list(map(int, input().split())))\n",
    "    \n",
    "allripe = True\n",
    "for i in range(n):\n",
    "    for j in range(m):\n",
    "        if board[i][j] == 0:\n",
    "            allripe = False\n",
    "            break\n",
    "    if allripe == False:\n",
    "        break\n",
    "if allripe:\n",
    "    print(0)\n",
    "else:\n",
    "    import copy\n",
    "    board2 = copy.deepcopy(board)\n",
    "    \n",
    "    day = 0\n",
    "    ripe = 1\n",
    "    oldripe = 0\n",
    "\n",
    "    dx = [1, -1, 0, 0]\n",
    "    dy = [0, 0, 1, -1]\n",
    "\n",
    "    # if board[x][y] = 1 이라면 bfs 수행\n",
    "    def bfs(board2, x, y):\n",
    "        global ripe\n",
    "        # 상하좌우\n",
    "        for i in range(4):\n",
    "            nx = x + dx[i]\n",
    "            ny = y + dy[i]\n",
    "            if nx < 0 or nx >= n * h or ny < 0 or ny >= m :\n",
    "                continue\n",
    "            if board2[nx][ny] == 0:\n",
    "                board2[nx][ny] = 1\n",
    "                ripe += 1\n",
    "        # 위판, 아래판\n",
    "        if x % n + 1 < n * h:\n",
    "            if board2[x % n + 1][y] == 0:\n",
    "                board2[x % n + 1][y] = 1\n",
    "                ripe += 1\n",
    "        if x % n - 1 < n * h:\n",
    "            if board2[x % n - 1][y] == 0:\n",
    "                board2[x % n - 1][y] = 1\n",
    "                ripe += 1\n",
    "\n",
    "    while oldripe != ripe:\n",
    "        oldripe = ripe\n",
    "\n",
    "        for i in range(n * h):\n",
    "            if 1 in board[i]:\n",
    "                for j in range(m):\n",
    "                    if board[i][j] == 1:\n",
    "                        bfs(board2, i, j)\n",
    "        board = copy.deepcopy(board2)\n",
    "        day += 1\n",
    "\n",
    "    allripe = True\n",
    "    for i in range(n):\n",
    "        for j in range(m):\n",
    "            if board[i][j] == 0:\n",
    "                allripe = False\n",
    "                print(-1)\n",
    "                break\n",
    "        if allripe == False:\n",
    "            break\n",
    "\n",
    "    if allripe:\n",
    "        print(day)"
   ]
  },
  {
   "cell_type": "markdown",
   "metadata": {},
   "source": [
    "# 답안"
   ]
  },
  {
   "cell_type": "code",
   "execution_count": 6,
   "metadata": {},
   "outputs": [],
   "source": [
    "sys_stdin = open('C:/Users/jiyeon/Desktop/baekjoon.txt', 'r')"
   ]
  },
  {
   "cell_type": "code",
   "execution_count": 7,
   "metadata": {},
   "outputs": [],
   "source": [
    "import sys\n",
    "from collections import deque\n",
    "m,n,h = map(int, sys_stdin.readline().split()) # mn크기, h상자수\n",
    "graph = []\n",
    "queue = deque([])\n",
    " \n",
    "for i in range(h):\n",
    "    tmp = []\n",
    "    for j in range(n):\n",
    "        tmp.append(list(map(int, sys_stdin.readline().split())))\n",
    "        for k in range(m):\n",
    "            if tmp[j][k]==1:\n",
    "                queue.append([i,j,k])\n",
    "    graph.append(tmp)"
   ]
  },
  {
   "cell_type": "code",
   "execution_count": 5,
   "metadata": {},
   "outputs": [
    {
     "name": "stdout",
     "output_type": "stream",
     "text": [
      "4\n"
     ]
    }
   ],
   "source": [
    "dx = [-1,1,0,0,0,0]\n",
    "dy = [0,0,1,-1,0,0]\n",
    "dz = [0,0,0,0,1,-1]\n",
    "    \n",
    "\n",
    "while(queue):\n",
    "    x,y,z = queue.popleft()\n",
    "    \n",
    "    for i in range(6):\n",
    "        a = x+dx[i]\n",
    "        b = y+dy[i]\n",
    "        c = z+dz[i]\n",
    "        if 0<=a<h and 0<=b<n and 0<=c<m and graph[a][b][c]==0:\n",
    "            queue.append([a,b,c])\n",
    "            graph[a][b][c] = graph[x][y][z]+1\n",
    "            # print('=================')\n",
    "            # for k in graph:\n",
    "            #     for j in k:\n",
    "            #         print(j)\n",
    "            #     print('-----------')\n",
    "            \n",
    "\n",
    "\n",
    "day = 0\n",
    "for i in graph:\n",
    "    for j in i:\n",
    "        for k in j:\n",
    "            if k==0:\n",
    "                print(-1)\n",
    "                exit(0)\n",
    "        day = max(day,max(j))\n",
    "print(day-1)\n",
    " \n"
   ]
  },
  {
   "cell_type": "markdown",
   "metadata": {},
   "source": [
    "# 재시도"
   ]
  },
  {
   "cell_type": "code",
   "execution_count": 5,
   "metadata": {},
   "outputs": [],
   "source": [
    "# import sys\n",
    "sys_stdin = open('C:/Users/jiyeon/Desktop/baekjoon.txt', 'r')\n",
    "m, n, h = map(int, sys_stdin.readline().rstrip().split())\n",
    "from collections import deque\n",
    "queue = deque([])\n",
    "board = []\n",
    "for i in range(h):\n",
    "    tmp = []\n",
    "    for j in range(n):\n",
    "        tmp.append(list(map(int, sys_stdin.readline().split())))\n",
    "        for k in range(m):\n",
    "            if tmp[j][k] == 1:\n",
    "                queue.append([i,j,k])\n",
    "    board.append(tmp)"
   ]
  },
  {
   "cell_type": "code",
   "execution_count": 6,
   "metadata": {},
   "outputs": [],
   "source": [
    "dx = [1, -1, 0, 0, 0, 0]\n",
    "dy = [0, 0, 1, -1, 0, 0]\n",
    "dz = [0, 0, 0, 0, 1, -1]\n",
    "\n",
    "while queue:\n",
    "    vx, vy, vz = queue.popleft()\n",
    "\n",
    "    for a in range(6):\n",
    "        nx = vx + dx[a]\n",
    "        ny = vy + dy[a]\n",
    "        nz = vz + dz[a]\n",
    "        if 0 <= nx < h and 0 <= ny < n and 0 <= nz < m and board[nx][ny][nz] == 0:\n",
    "            queue.append([nx, ny, nz])\n",
    "            board[nx][ny][nz] = board[vx][vy][vz] + 1"
   ]
  },
  {
   "cell_type": "code",
   "execution_count": 7,
   "metadata": {},
   "outputs": [
    {
     "name": "stdout",
     "output_type": "stream",
     "text": [
      "4\n"
     ]
    }
   ],
   "source": [
    "day = 0\n",
    "for i in board:\n",
    "    for j in i:\n",
    "        for k in j:\n",
    "            if k == 0:\n",
    "                print(-1)\n",
    "                exit(0)\n",
    "            day = max(day, k)\n",
    "print(day-1)"
   ]
  }
 ],
 "metadata": {
  "kernelspec": {
   "display_name": "base",
   "language": "python",
   "name": "python3"
  },
  "language_info": {
   "codemirror_mode": {
    "name": "ipython",
    "version": 3
   },
   "file_extension": ".py",
   "mimetype": "text/x-python",
   "name": "python",
   "nbconvert_exporter": "python",
   "pygments_lexer": "ipython3",
   "version": "3.9.12"
  },
  "orig_nbformat": 4
 },
 "nbformat": 4,
 "nbformat_minor": 2
}
