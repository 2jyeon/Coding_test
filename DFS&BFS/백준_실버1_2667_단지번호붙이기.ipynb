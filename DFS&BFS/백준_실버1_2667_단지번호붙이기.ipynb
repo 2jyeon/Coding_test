{
 "cells": [
  {
   "cell_type": "markdown",
   "metadata": {},
   "source": [
    "# 백준\n",
    "https://www.acmicpc.net/problem/2667"
   ]
  },
  {
   "cell_type": "code",
   "execution_count": 14,
   "metadata": {},
   "outputs": [],
   "source": [
    "n = int(input())"
   ]
  },
  {
   "cell_type": "code",
   "execution_count": 15,
   "metadata": {},
   "outputs": [],
   "source": [
    "board = []\n",
    "for _ in range(n):\n",
    "    board.append(list(map(int, input())))"
   ]
  },
  {
   "cell_type": "code",
   "execution_count": 16,
   "metadata": {},
   "outputs": [],
   "source": [
    "import copy\n",
    "board2 = copy.deepcopy(board)"
   ]
  },
  {
   "cell_type": "code",
   "execution_count": 17,
   "metadata": {},
   "outputs": [
    {
     "name": "stdout",
     "output_type": "stream",
     "text": [
      "[0, 1, 1, 0, 1, 0, 0]\n",
      "[0, 1, 1, 0, 1, 0, 1]\n",
      "[1, 1, 1, 0, 1, 0, 1]\n",
      "[0, 0, 0, 0, 1, 1, 1]\n",
      "[0, 1, 0, 0, 0, 0, 0]\n",
      "[0, 1, 1, 1, 1, 1, 0]\n",
      "[0, 1, 1, 1, 0, 0, 0]\n"
     ]
    }
   ],
   "source": [
    "for j in board:\n",
    "    print(j)"
   ]
  },
  {
   "cell_type": "code",
   "execution_count": 49,
   "metadata": {},
   "outputs": [],
   "source": [
    "from collections import deque\n",
    "\n",
    "# 출발점\n",
    "queue = deque((0, 0))\n",
    "\n",
    "# 상 하 좌 우\n",
    "# [행][열]\n",
    "dx = [-1, 1, 0, 0]\n",
    "dy = [0, 0, -1, 1]"
   ]
  },
  {
   "cell_type": "code",
   "execution_count": 50,
   "metadata": {},
   "outputs": [],
   "source": [
    "def bfs(board, row, col):\n",
    "    queue = deque((row, col))\n",
    "    board[row][col] = 0\n",
    "    house = 1\n",
    "\n",
    "    while queue:\n",
    "        x, y = queue.popleft()\n",
    "        for i in range(4):\n",
    "            nx = x + dx[i]\n",
    "            ny = y + dy[i]\n",
    "            if nx < 0 or nx >= n or ny < 0 or ny >= 1:\n",
    "                continue\n",
    "            if board[nx][ny] == 1:\n",
    "                board[nx][ny] = 0\n",
    "                queue.append((nx, ny))\n",
    "                house += 1\n",
    "    \n",
    "    return house"
   ]
  },
  {
   "cell_type": "code",
   "execution_count": 51,
   "metadata": {},
   "outputs": [
    {
     "ename": "TypeError",
     "evalue": "cannot unpack non-iterable int object",
     "output_type": "error",
     "traceback": [
      "\u001b[1;31m---------------------------------------------------------------------------\u001b[0m",
      "\u001b[1;31mTypeError\u001b[0m                                 Traceback (most recent call last)",
      "\u001b[1;32mc:\\Users\\jiyeon\\Desktop\\Coding_test\\DFS&BFS\\2667_단지번호붙이기.ipynb Cell 8\u001b[0m line \u001b[0;36m<cell line: 3>\u001b[1;34m()\u001b[0m\n\u001b[0;32m      <a href='vscode-notebook-cell:/c%3A/Users/jiyeon/Desktop/Coding_test/DFS%26BFS/2667_%EB%8B%A8%EC%A7%80%EB%B2%88%ED%98%B8%EB%B6%99%EC%9D%B4%EA%B8%B0.ipynb#X16sZmlsZQ%3D%3D?line=3'>4</a>\u001b[0m \u001b[39mfor\u001b[39;00m j \u001b[39min\u001b[39;00m \u001b[39mrange\u001b[39m(n):\n\u001b[0;32m      <a href='vscode-notebook-cell:/c%3A/Users/jiyeon/Desktop/Coding_test/DFS%26BFS/2667_%EB%8B%A8%EC%A7%80%EB%B2%88%ED%98%B8%EB%B6%99%EC%9D%B4%EA%B8%B0.ipynb#X16sZmlsZQ%3D%3D?line=4'>5</a>\u001b[0m     \u001b[39mif\u001b[39;00m board[i][j] \u001b[39m==\u001b[39m \u001b[39m1\u001b[39m:\n\u001b[1;32m----> <a href='vscode-notebook-cell:/c%3A/Users/jiyeon/Desktop/Coding_test/DFS%26BFS/2667_%EB%8B%A8%EC%A7%80%EB%B2%88%ED%98%B8%EB%B6%99%EC%9D%B4%EA%B8%B0.ipynb#X16sZmlsZQ%3D%3D?line=5'>6</a>\u001b[0m         danji\u001b[39m.\u001b[39mappend(bfs(board, i, j))\n",
      "\u001b[1;32mc:\\Users\\jiyeon\\Desktop\\Coding_test\\DFS&BFS\\2667_단지번호붙이기.ipynb Cell 8\u001b[0m line \u001b[0;36mbfs\u001b[1;34m(graph, row, col)\u001b[0m\n\u001b[0;32m      <a href='vscode-notebook-cell:/c%3A/Users/jiyeon/Desktop/Coding_test/DFS%26BFS/2667_%EB%8B%A8%EC%A7%80%EB%B2%88%ED%98%B8%EB%B6%99%EC%9D%B4%EA%B8%B0.ipynb#X16sZmlsZQ%3D%3D?line=3'>4</a>\u001b[0m house \u001b[39m=\u001b[39m \u001b[39m1\u001b[39m\n\u001b[0;32m      <a href='vscode-notebook-cell:/c%3A/Users/jiyeon/Desktop/Coding_test/DFS%26BFS/2667_%EB%8B%A8%EC%A7%80%EB%B2%88%ED%98%B8%EB%B6%99%EC%9D%B4%EA%B8%B0.ipynb#X16sZmlsZQ%3D%3D?line=5'>6</a>\u001b[0m \u001b[39mwhile\u001b[39;00m queue:\n\u001b[1;32m----> <a href='vscode-notebook-cell:/c%3A/Users/jiyeon/Desktop/Coding_test/DFS%26BFS/2667_%EB%8B%A8%EC%A7%80%EB%B2%88%ED%98%B8%EB%B6%99%EC%9D%B4%EA%B8%B0.ipynb#X16sZmlsZQ%3D%3D?line=6'>7</a>\u001b[0m     x, y \u001b[39m=\u001b[39m queue\u001b[39m.\u001b[39mpopleft()\n\u001b[0;32m      <a href='vscode-notebook-cell:/c%3A/Users/jiyeon/Desktop/Coding_test/DFS%26BFS/2667_%EB%8B%A8%EC%A7%80%EB%B2%88%ED%98%B8%EB%B6%99%EC%9D%B4%EA%B8%B0.ipynb#X16sZmlsZQ%3D%3D?line=7'>8</a>\u001b[0m     \u001b[39mfor\u001b[39;00m i \u001b[39min\u001b[39;00m \u001b[39mrange\u001b[39m(\u001b[39m4\u001b[39m):\n\u001b[0;32m      <a href='vscode-notebook-cell:/c%3A/Users/jiyeon/Desktop/Coding_test/DFS%26BFS/2667_%EB%8B%A8%EC%A7%80%EB%B2%88%ED%98%B8%EB%B6%99%EC%9D%B4%EA%B8%B0.ipynb#X16sZmlsZQ%3D%3D?line=8'>9</a>\u001b[0m         nx \u001b[39m=\u001b[39m x \u001b[39m+\u001b[39m dx[i]\n",
      "\u001b[1;31mTypeError\u001b[0m: cannot unpack non-iterable int object"
     ]
    }
   ],
   "source": [
    "danji = []\n",
    "\n",
    "for i in range(n):\n",
    "    for j in range(n):\n",
    "        if board[i][j] == 1:\n",
    "            danji.append(bfs(board, i, j))"
   ]
  }
 ],
 "metadata": {
  "kernelspec": {
   "display_name": "base",
   "language": "python",
   "name": "python3"
  },
  "language_info": {
   "codemirror_mode": {
    "name": "ipython",
    "version": 3
   },
   "file_extension": ".py",
   "mimetype": "text/x-python",
   "name": "python",
   "nbconvert_exporter": "python",
   "pygments_lexer": "ipython3",
   "version": "3.9.12"
  },
  "orig_nbformat": 4
 },
 "nbformat": 4,
 "nbformat_minor": 2
}
