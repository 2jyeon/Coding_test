{
 "cells": [
  {
   "cell_type": "markdown",
   "metadata": {},
   "source": [
    "# 백준\n",
    "https://www.acmicpc.net/problem/2667"
   ]
  },
  {
   "cell_type": "code",
   "execution_count": 65,
   "metadata": {},
   "outputs": [],
   "source": [
    "n = int(input())\n",
    "board = []\n",
    "for _ in range(n):\n",
    "    board.append(list(map(int, input())))"
   ]
  },
  {
   "cell_type": "code",
   "execution_count": 67,
   "metadata": {},
   "outputs": [],
   "source": [
    "from collections import deque\n",
    "\n",
    "# 상 하 좌 우\n",
    "# [행][열]\n",
    "dx = [-1, 1, 0, 0]\n",
    "dy = [0, 0, -1, 1]"
   ]
  },
  {
   "cell_type": "code",
   "execution_count": 68,
   "metadata": {},
   "outputs": [],
   "source": [
    "def bfs(board, row, col):\n",
    "    # 출발점\n",
    "    queue = deque([(row, col)])\n",
    "    # 방문처리\n",
    "    board[row][col] = 0\n",
    "    # 지금 단지에 집 1개\n",
    "    house = 1\n",
    "\n",
    "    # 인접한 집으로 확장하는 동안\n",
    "    while queue:\n",
    "        # 지금집\n",
    "        x, y = queue.popleft()\n",
    "        # 지금집 주변 상하좌우\n",
    "        for i in range(4):\n",
    "            nx = x + dx[i]\n",
    "            ny = y + dy[i]\n",
    "            # 범위 벗어나가면 다른 인접한 집으로 넘어가고\n",
    "            if nx < 0 or nx >= n or ny < 0 or ny >= n:\n",
    "                continue\n",
    "            # 집이 있으면\n",
    "            if board[nx][ny] == 1:\n",
    "                # 방문 처리\n",
    "                board[nx][ny] = 0\n",
    "                # 큐에 추가\n",
    "                queue.append((nx, ny))\n",
    "                # 집있으니가 1개 추가\n",
    "                house += 1\n",
    "    \n",
    "    return house"
   ]
  },
  {
   "cell_type": "code",
   "execution_count": 69,
   "metadata": {},
   "outputs": [],
   "source": [
    "danji = []\n",
    "for i in range(n):\n",
    "    for j in range(n):\n",
    "        if board[i][j] == 1:\n",
    "            danji.append(bfs(board, i, j))"
   ]
  },
  {
   "cell_type": "code",
   "execution_count": 71,
   "metadata": {},
   "outputs": [
    {
     "name": "stdout",
     "output_type": "stream",
     "text": [
      "3\n",
      "7\n",
      "8\n",
      "9\n"
     ]
    }
   ],
   "source": [
    "danji.sort()\n",
    "print(len(danji))\n",
    "for i in danji:\n",
    "    print(i)"
   ]
  }
 ],
 "metadata": {
  "kernelspec": {
   "display_name": "base",
   "language": "python",
   "name": "python3"
  },
  "language_info": {
   "codemirror_mode": {
    "name": "ipython",
    "version": 3
   },
   "file_extension": ".py",
   "mimetype": "text/x-python",
   "name": "python",
   "nbconvert_exporter": "python",
   "pygments_lexer": "ipython3",
   "version": "3.9.12"
  },
  "orig_nbformat": 4
 },
 "nbformat": 4,
 "nbformat_minor": 2
}
