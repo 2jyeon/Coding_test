{
 "cells": [
  {
   "cell_type": "markdown",
   "metadata": {},
   "source": [
    "# 백준\n",
    "https://www.acmicpc.net/problem/2178"
   ]
  },
  {
   "cell_type": "markdown",
   "metadata": {},
   "source": [
    "인덱스로 x좌표 y좌표 상하좌우 살펴가면서 해야할 것 같은데..\n",
    "dx dy 0 0 1 -1 만들어서 방향 살펴주고\n",
    "내입장에서 가까운애들한테 다 퍼져서 모두 거리 합산하면서 가다가 도착하면 그 값 출력해주는걸로 -> bfs"
   ]
  },
  {
   "cell_type": "code",
   "execution_count": 20,
   "metadata": {},
   "outputs": [
    {
     "name": "stdout",
     "output_type": "stream",
     "text": [
      "14\n"
     ]
    }
   ],
   "source": [
    "n, m = map(int, input().split())\n",
    "board = []\n",
    "for _ in range(n):\n",
    "    board.append(list(map(int, input())))\n",
    "        \n",
    "dx = [-1, 1, 0, 0]\n",
    "dy = [0, 0, -1, 1]\n",
    "\n",
    "from collections import deque\n",
    "queue = deque([(0, 0)])\n",
    "        \n",
    "while queue:\n",
    "    now_x, now_y = queue.popleft()\n",
    "    for i in range(4):\n",
    "        if now_x + dx[i] < 0 or now_x + dx[i] >= n or now_y + dy[i] < 0 or now_y + dy[i] >= m or (now_x + dx[i] == 0 and now_y + dy[i] == 0):\n",
    "            continue\n",
    "        if board[now_x + dx[i]][now_y + dy[i]] == 1:\n",
    "            queue.append((now_x + dx[i], now_y + dy[i]))\n",
    "            board[now_x + dx[i]][now_y + dy[i]] = board[now_x][now_y] + 1\n",
    "\n",
    "print(board[n-1][m-1])"
   ]
  }
 ],
 "metadata": {
  "kernelspec": {
   "display_name": "base",
   "language": "python",
   "name": "python3"
  },
  "language_info": {
   "codemirror_mode": {
    "name": "ipython",
    "version": 3
   },
   "file_extension": ".py",
   "mimetype": "text/x-python",
   "name": "python",
   "nbconvert_exporter": "python",
   "pygments_lexer": "ipython3",
   "version": "3.9.12"
  },
  "orig_nbformat": 4
 },
 "nbformat": 4,
 "nbformat_minor": 2
}
