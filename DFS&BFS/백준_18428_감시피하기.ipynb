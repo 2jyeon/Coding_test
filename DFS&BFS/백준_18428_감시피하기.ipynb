{
 "cells": [
  {
   "cell_type": "markdown",
   "metadata": {},
   "source": [
    "https://www.acmicpc.net/problem/18428"
   ]
  },
  {
   "cell_type": "markdown",
   "metadata": {},
   "source": [
    "제한시간 2초.  \n",
    "장애물 3개 설치하는 모든 경우 다 시도한다면  \n",
    "-> max(n) = 6 이므로 칸은 36개   \n",
    "-> 36C3 < 20,000,000 이므로 시도 가능."
   ]
  },
  {
   "cell_type": "markdown",
   "metadata": {},
   "source": [
    "과정1.  \n",
    "장애물 3개 설치하고\n",
    "T들에 대하여\n",
    "각 T의 4가지 직선방향에 대해 S가 닿으면 다음 장애물 조합으로 넘어가기\n",
    "\n",
    "S가 안닿은채로 끝나면 'YES' 출력하고 flag 추가. 1번과정 반복 종료  \n",
    "과정1이 모두 수행됐으면(flag가 거짓임) -> 'NO' 출력"
   ]
  },
  {
   "cell_type": "markdown",
   "metadata": {},
   "source": [
    "장애물 조합은 위치 인덱스 ([], [], []) 형태.  \n",
    "combination 함수로 만들자."
   ]
  },
  {
   "cell_type": "code",
   "execution_count": 39,
   "metadata": {},
   "outputs": [],
   "source": [
    "# 값 입력\n",
    "sys_stdin = open('C:/Users/jiyeon/Desktop/baekjoon.txt', 'r')\n",
    "n = int(sys_stdin.readline())\n",
    "board = []\n",
    "for _ in range(n):\n",
    "    board.append(sys_stdin.readline().split())\n",
    "\n",
    "# 장애물 둘 수 있는 조합 만들기\n",
    "obs_list = []\n",
    "for i in range(n):\n",
    "    for j in range(n):\n",
    "        if board[i][j] == 'X':\n",
    "            obs_list.append([i,j])\n",
    "\n",
    "from itertools import combinations\n",
    "obs_list_comb = list(combinations(obs_list, 3))\n",
    "\n",
    "\n",
    "# main\n",
    "import copy\n",
    "dx = [1, -1, 0, 0]\n",
    "dy = [0, 0, 1, -1]\n",
    "\n",
    "for obs in obs_list_comb:\n",
    "    board2 = copy.deepcopy(board)\n",
    "    for x, y in obs:\n",
    "        board2[x][y] = 'O'\n",
    "\n",
    "    fail = False\n",
    "    for i in range(n):\n",
    "        for j in range(n):\n",
    "            if board2[i][j] == 'T':\n",
    "                for k in range(4):\n",
    "                    nx = i + dx[k]\n",
    "                    ny = j + dy[k]\n",
    "                    while 0 <= nx < n and 0 <= ny < n:\n",
    "                        if board2[nx][ny] == 'S':\n",
    "                            fail = True\n",
    "                            break\n",
    "                        elif board2[nx][ny] == 'O':\n",
    "                            break\n",
    "                        nx += dx[k]\n",
    "                        ny += dy[k]\n",
    "                    if fail:\n",
    "                        break\n",
    "            if fail:\n",
    "                break\n",
    "        if fail:\n",
    "            break\n",
    "\n",
    "    if not fail:\n",
    "        print('YES')\n",
    "        break\n",
    "\n",
    "if fail:\n",
    "    print('NO')"
   ]
  },
  {
   "cell_type": "code",
   "execution_count": 42,
   "metadata": {},
   "outputs": [
    {
     "name": "stdout",
     "output_type": "stream",
     "text": [
      "NO\n"
     ]
    }
   ],
   "source": []
  }
 ],
 "metadata": {
  "kernelspec": {
   "display_name": "base",
   "language": "python",
   "name": "python3"
  },
  "language_info": {
   "codemirror_mode": {
    "name": "ipython",
    "version": 3
   },
   "file_extension": ".py",
   "mimetype": "text/x-python",
   "name": "python",
   "nbconvert_exporter": "python",
   "pygments_lexer": "ipython3",
   "version": "3.9.12"
  },
  "orig_nbformat": 4
 },
 "nbformat": 4,
 "nbformat_minor": 2
}
