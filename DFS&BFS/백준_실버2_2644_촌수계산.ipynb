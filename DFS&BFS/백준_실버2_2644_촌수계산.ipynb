{
 "cells": [
  {
   "cell_type": "markdown",
   "metadata": {},
   "source": [
    "https://www.acmicpc.net/problem/2644"
   ]
  },
  {
   "cell_type": "code",
   "execution_count": 3,
   "metadata": {},
   "outputs": [
    {
     "name": "stdout",
     "output_type": "stream",
     "text": [
      "-1\n"
     ]
    }
   ],
   "source": [
    "dt = open('C:/Users/jiyeon/Desktop/baekjoon.txt', 'r')\n",
    "\n",
    "from collections import deque\n",
    "n = int(dt.readline().rstrip())\n",
    "a, b = map(int, dt.readline().rstrip().split())\n",
    "m = int(dt.readline().rstrip())\n",
    "\n",
    "graph = [[] for _ in range(n+1)]\n",
    "for _ in range(m):\n",
    "    i, j = map(int, dt.readline().rstrip().split())\n",
    "    graph[i].append(j)\n",
    "    graph[j].append(i)\n",
    "\n",
    "visited = [-1] * (n+1)\n",
    "visited[a] = 0\n",
    "\n",
    "def bfs(graph, start, visited):\n",
    "    queue = deque([start])\n",
    "\n",
    "    while queue:\n",
    "        now = queue.popleft()\n",
    "        for i in graph[now]:\n",
    "            if visited[i] == -1:\n",
    "                queue.append(i)\n",
    "                visited[i] = visited[now] + 1\n",
    "        if i == b:\n",
    "            break\n",
    "\n",
    "bfs(graph, a, visited)\n",
    "print(visited[b])"
   ]
  },
  {
   "cell_type": "markdown",
   "metadata": {},
   "source": [
    "둘 중 한명으로부터 시작해서 촌수를 세면 되니까 bfs로 풀어보자\n"
   ]
  },
  {
   "cell_type": "code",
   "execution_count": 2,
   "metadata": {},
   "outputs": [
    {
     "name": "stdout",
     "output_type": "stream",
     "text": [
      "[[], [2, 3], [1, 7, 8, 9], [1], [5, 6], [4], [4], [2], [2], [2]]\n"
     ]
    }
   ],
   "source": [
    "# bfs 필요한 것\n",
    "# from collections import deque\n",
    "# 양방향 인접리스트\n",
    "# 방문여부\n",
    "# bfs 함수\n",
    "\n",
    "from collections import deque\n",
    "n = int(input())\n",
    "a, b = map(int, input().split())\n",
    "m = int(input())\n",
    "\n",
    "graph = [[] for _ in range(n+1)]\n",
    "for _ in range(m):\n",
    "    i, j = map(int, input().split())\n",
    "    graph[i].append(j)\n",
    "    graph[j].append(i)\n",
    "\n",
    "visited = [-1] * (n+1)\n",
    "visited[a] = 0\n",
    "\n",
    "def bfs(graph, start, visited):\n",
    "    queue = deque([start])\n",
    "\n",
    "    while queue:\n",
    "        now = queue.popleft()\n",
    "        for i in graph[now]:\n",
    "            if visited[i] == -1:\n",
    "                queue.append(i)\n",
    "                visited[i] = visited[now] + 1\n",
    "\n",
    "bfs(graph, a, visited)\n",
    "print(visited[b])"
   ]
  }
 ],
 "metadata": {
  "kernelspec": {
   "display_name": "base",
   "language": "python",
   "name": "python3"
  },
  "language_info": {
   "codemirror_mode": {
    "name": "ipython",
    "version": 3
   },
   "file_extension": ".py",
   "mimetype": "text/x-python",
   "name": "python",
   "nbconvert_exporter": "python",
   "pygments_lexer": "ipython3",
   "version": "3.9.12"
  },
  "orig_nbformat": 4
 },
 "nbformat": 4,
 "nbformat_minor": 2
}
