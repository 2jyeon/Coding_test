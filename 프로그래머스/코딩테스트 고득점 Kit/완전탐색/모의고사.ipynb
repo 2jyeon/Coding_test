{
 "cells": [
  {
   "cell_type": "markdown",
   "metadata": {},
   "source": [
    "https://school.programmers.co.kr/learn/courses/30/lessons/42840\n",
    "\n",
    "10:36~"
   ]
  },
  {
   "cell_type": "code",
   "execution_count": null,
   "metadata": {},
   "outputs": [],
   "source": [
    "def solution(answers):\n",
    "    a = [1, 2, 3, 4, 5]\n",
    "    b = [2, 1, 2, 3, 2, 4, 2, 5]\n",
    "    c = [3, 3, 1, 1, 2, 2, 4, 4, 5, 5]\n",
    "    \n",
    "    score_a, score_b, score_c = 0, 0, 0\n",
    "    for i in range(len(answers)):\n",
    "        answer = answers[i]\n",
    "        if answer == a[i%5]:\n",
    "            score_a +=1 \n",
    "        if answer == b[i%8]:\n",
    "            score_b +=1 \n",
    "        if answer == c[i%10]:\n",
    "            score_c +=1 \n",
    "            \n",
    "    max_score = max(score_a, score_b, score_c)\n",
    "    answer = []\n",
    "    if score_a == max_score:\n",
    "        answer.append(1)\n",
    "    if score_b == max_score:\n",
    "        answer.append(2)\n",
    "    if score_c == max_score:\n",
    "        answer.append(3)\n",
    "    return answer"
   ]
  },
  {
   "cell_type": "code",
   "execution_count": null,
   "metadata": {},
   "outputs": [],
   "source": [
    "# 코드 줄이기\n",
    "# 점수 저장하는 리스트 생성하여 인덱스번호로 학생 구분!\n",
    "\n",
    "def solution(answers):\n",
    "    a = [1, 2, 3, 4, 5]\n",
    "    b = [2, 1, 2, 3, 2, 4, 2, 5]\n",
    "    c = [3, 3, 1, 1, 2, 2, 4, 4, 5, 5]\n",
    "    \n",
    "    score = [0, 0, 0]\n",
    "    for i in range(len(answers)):\n",
    "        answer = answers[i]\n",
    "        if answer == a[i%5]:\n",
    "            score[0] +=1 \n",
    "        if answer == b[i%8]:\n",
    "            score[1] +=1 \n",
    "        if answer == c[i%10]:\n",
    "            score[2] +=1 \n",
    "            \n",
    "    max_score = max(score)\n",
    "    answer = []\n",
    "    for idx, v in enumerate(score):\n",
    "        if v == max_score:\n",
    "            answer.append(idx+1)\n",
    "            \n",
    "    return answer"
   ]
  }
 ],
 "metadata": {
  "language_info": {
   "name": "python"
  },
  "orig_nbformat": 4
 },
 "nbformat": 4,
 "nbformat_minor": 2
}
