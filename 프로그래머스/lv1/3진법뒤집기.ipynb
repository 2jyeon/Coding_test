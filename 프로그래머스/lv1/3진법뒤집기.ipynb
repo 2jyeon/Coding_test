{
 "cells": [
  {
   "cell_type": "code",
   "execution_count": 2,
   "metadata": {},
   "outputs": [
    {
     "data": {
      "text/plain": [
       "0"
      ]
     },
     "execution_count": 2,
     "metadata": {},
     "output_type": "execute_result"
    }
   ],
   "source": [
    "def solution(n):\n",
    "    # 3진법 구하기\n",
    "    tmp = ''\n",
    "    tmp += str(n%3)\n",
    "    while n >= 3:\n",
    "        n = n // 3\n",
    "        tmp += str(n%3)\n",
    "        \n",
    "    # 10진법 구하기\n",
    "    answer = 0\n",
    "    for i in range(len(tmp)):\n",
    "        answer += int(tmp[len(tmp)-1-i]) * (3 ** i)\n",
    "        \n",
    "    return answer\n",
    "solution(3)"
   ]
  }
 ],
 "metadata": {
  "kernelspec": {
   "display_name": "bigcon_env",
   "language": "python",
   "name": "python3"
  },
  "language_info": {
   "codemirror_mode": {
    "name": "ipython",
    "version": 3
   },
   "file_extension": ".py",
   "mimetype": "text/x-python",
   "name": "python",
   "nbconvert_exporter": "python",
   "pygments_lexer": "ipython3",
   "version": "3.10.6"
  },
  "orig_nbformat": 4
 },
 "nbformat": 4,
 "nbformat_minor": 2
}
