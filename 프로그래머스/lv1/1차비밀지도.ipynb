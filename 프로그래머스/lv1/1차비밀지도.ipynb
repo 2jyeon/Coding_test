{
 "cells": [
  {
   "cell_type": "code",
   "execution_count": 12,
   "metadata": {},
   "outputs": [
    {
     "data": {
      "text/plain": [
       "'11100'"
      ]
     },
     "execution_count": 12,
     "metadata": {},
     "output_type": "execute_result"
    }
   ],
   "source": [
    "def bintoten(n, arr):\n",
    "    arr_list = []\n",
    "    for i in arr:\n",
    "        tmp = ''\n",
    "        while i > 0:\n",
    "            div = i // 2\n",
    "            mod = i % 2\n",
    "            i = div\n",
    "            tmp += str(mod)\n",
    "        tmp = tmp + '0' * (n-len(tmp))\n",
    "        arr_list.append(tmp[::-1])\n",
    "    return arr_list\n",
    "\n",
    "def solution(n, arr1, arr2):\n",
    "    arr1_list = bintoten(n, arr1)\n",
    "    arr2_list = bintoten(n, arr2)\n",
    "    \n",
    "    arr_list = [[' '] * n for _ in range(n)]\n",
    "    for i in range(n):\n",
    "        for j in range(n):\n",
    "            if int(arr1_list[i][j]) + int(arr2_list[i][j]) > 0:\n",
    "                arr_list[i][j] = '#'\n",
    "    answer = []\n",
    "    for i in arr_list:\n",
    "        answer.append(''.join(i))\n",
    "    return answer"
   ]
  }
 ],
 "metadata": {
  "kernelspec": {
   "display_name": "base",
   "language": "python",
   "name": "python3"
  },
  "language_info": {
   "codemirror_mode": {
    "name": "ipython",
    "version": 3
   },
   "file_extension": ".py",
   "mimetype": "text/x-python",
   "name": "python",
   "nbconvert_exporter": "python",
   "pygments_lexer": "ipython3",
   "version": "3.9.12"
  }
 },
 "nbformat": 4,
 "nbformat_minor": 2
}
