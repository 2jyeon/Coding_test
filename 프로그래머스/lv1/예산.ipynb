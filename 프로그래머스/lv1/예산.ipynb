{
 "cells": [
  {
   "cell_type": "code",
   "execution_count": null,
   "metadata": {},
   "outputs": [],
   "source": [
    "def solution(d, budget):\n",
    "    d.sort()\n",
    "    cnt = 0\n",
    "    for i in d:\n",
    "        budget -= i\n",
    "        if budget < 0:\n",
    "            break\n",
    "        cnt += 1\n",
    "    return cnt"
   ]
  }
 ],
 "metadata": {
  "language_info": {
   "name": "python"
  },
  "orig_nbformat": 4
 },
 "nbformat": 4,
 "nbformat_minor": 2
}
