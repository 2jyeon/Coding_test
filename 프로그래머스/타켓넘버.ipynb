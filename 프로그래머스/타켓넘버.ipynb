{
 "cells": [
  {
   "cell_type": "code",
   "execution_count": 19,
   "metadata": {},
   "outputs": [
    {
     "data": {
      "text/plain": [
       "2"
      ]
     },
     "execution_count": 19,
     "metadata": {},
     "output_type": "execute_result"
    }
   ],
   "source": [
    "cnt = 0\n",
    "\n",
    "def solution(numbers, target):\n",
    "    dfs(numbers, target, 0, 0)\n",
    "    return cnt\n",
    "\n",
    "def dfs(numbers, target, idx, val):\n",
    "    if idx == len(numbers):\n",
    "        if val == target:\n",
    "            global cnt\n",
    "            cnt += 1\n",
    "        return\n",
    "    \n",
    "    dfs(numbers, target, idx + 1, val + numbers[idx])\n",
    "    dfs(numbers, target, idx + 1, val - numbers[idx])\n",
    "\n",
    "\n",
    "solution([4, 1, 2, 1], 4)"
   ]
  }
 ],
 "metadata": {
  "kernelspec": {
   "display_name": "base",
   "language": "python",
   "name": "python3"
  },
  "language_info": {
   "codemirror_mode": {
    "name": "ipython",
    "version": 3
   },
   "file_extension": ".py",
   "mimetype": "text/x-python",
   "name": "python",
   "nbconvert_exporter": "python",
   "pygments_lexer": "ipython3",
   "version": "3.9.12"
  },
  "orig_nbformat": 4
 },
 "nbformat": 4,
 "nbformat_minor": 2
}
