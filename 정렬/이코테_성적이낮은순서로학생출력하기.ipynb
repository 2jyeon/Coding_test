{
 "cells": [
  {
   "cell_type": "code",
   "execution_count": 3,
   "metadata": {},
   "outputs": [
    {
     "name": "stdout",
     "output_type": "stream",
     "text": [
      "2 [['홍길동', 95], ['이순신', 77]]\n",
      "이순신 홍길동\n"
     ]
    }
   ],
   "source": [
    "sys_stdin = open('C:/Users/jiyeon/Desktop/baekjoon.txt', 'r')\n",
    "\n",
    "n = int(sys_stdin.readline())\n",
    "array = []\n",
    "for _ in range(n):\n",
    "    a, b = sys_stdin.readline().split()\n",
    "    array.append([a, int(b)])\n",
    "\n",
    "print(n, array)\n",
    "\n",
    "array.sort(key = lambda x: x[1])\n",
    "print(*[x for x, y in array])\n"
   ]
  }
 ],
 "metadata": {
  "kernelspec": {
   "display_name": "base",
   "language": "python",
   "name": "python3"
  },
  "language_info": {
   "codemirror_mode": {
    "name": "ipython",
    "version": 3
   },
   "file_extension": ".py",
   "mimetype": "text/x-python",
   "name": "python",
   "nbconvert_exporter": "python",
   "pygments_lexer": "ipython3",
   "version": "3.9.12"
  },
  "orig_nbformat": 4
 },
 "nbformat": 4,
 "nbformat_minor": 2
}
