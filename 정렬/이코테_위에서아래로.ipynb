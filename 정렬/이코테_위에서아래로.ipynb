{
 "cells": [
  {
   "cell_type": "markdown",
   "metadata": {},
   "source": [
    "하나의 수열에는 다양한 수가 존재한다. 이러한 수는 크기에 상관없이 나열되어 있다. 이 수를 큰 수부터 작은 수의 순서로 정렬해야 한다. 수열을 내림차순으로 정렬하는 프로그램을 만드시오.\n",
    "\n",
    "* 입력조건\n",
    "    * 첫째 줄에 수열에 속해있는 수의 개수 N이 주어진다. 1 <= N <= 500\n",
    "    * 둘째 줄부터 N+1 번째 줄까지 N개의 수가 입력된다. 1 <= <= 100,000 자연수\n",
    "* 출력조건\n",
    "    * 입력으로 주어진 수열이 내림차순으로 정렬된 결과를 공백으로 구분하여 출력한다.\n",
    "    * 동일한 수는 순서 상관 X"
   ]
  },
  {
   "cell_type": "code",
   "execution_count": 3,
   "metadata": {},
   "outputs": [
    {
     "name": "stdout",
     "output_type": "stream",
     "text": [
      "4 [15, 27, 12, 19]\n"
     ]
    }
   ],
   "source": [
    "sys_stdin = open('C:/Users/jiyeon/Desktop/baekjoon.txt', 'r')\n",
    "\n",
    "# 값 입력\n",
    "n = int(sys_stdin.readline())\n",
    "array = []\n",
    "for _ in range(n):\n",
    "    array.append(int(sys_stdin.readline()))\n",
    "\n",
    "print(n, array)\n"
   ]
  },
  {
   "cell_type": "code",
   "execution_count": 11,
   "metadata": {},
   "outputs": [
    {
     "name": "stdout",
     "output_type": "stream",
     "text": [
      "9 8 7 6 5 4 3 2 1 0\n"
     ]
    }
   ],
   "source": [
    "def quick_sort(input_array):\n",
    "    if len(input_array) <= 1:\n",
    "        return input_array\n",
    "    pivot = input_array[0]\n",
    "    tail = input_array[1:]\n",
    "\n",
    "    left = [x for x in tail if x > pivot]\n",
    "    right = [x for x in tail if x <= pivot]\n",
    "\n",
    "    return quick_sort(left) + [pivot] + quick_sort(right)\n",
    "\n",
    "print(*quick_sort(array))"
   ]
  }
 ],
 "metadata": {
  "kernelspec": {
   "display_name": "base",
   "language": "python",
   "name": "python3"
  },
  "language_info": {
   "codemirror_mode": {
    "name": "ipython",
    "version": 3
   },
   "file_extension": ".py",
   "mimetype": "text/x-python",
   "name": "python",
   "nbconvert_exporter": "python",
   "pygments_lexer": "ipython3",
   "version": "3.9.12"
  },
  "orig_nbformat": 4
 },
 "nbformat": 4,
 "nbformat_minor": 2
}
