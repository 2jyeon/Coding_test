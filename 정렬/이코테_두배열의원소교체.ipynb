{
 "cells": [
  {
   "cell_type": "code",
   "execution_count": 13,
   "metadata": {},
   "outputs": [
    {
     "name": "stdout",
     "output_type": "stream",
     "text": [
      "[1, 2, 5, 4, 3] [5, 5, 6, 6, 5]\n",
      "[1, 2, 3, 4, 5] [5, 5, 5, 6, 6]\n",
      "[6, 6, 5, 4, 5]\n",
      "26\n"
     ]
    }
   ],
   "source": [
    "sys_stdin = open('C:/Users/jiyeon/Desktop/baekjoon.txt', 'r')\n",
    "\n",
    "n, k = map(int, sys_stdin.readline().split())\n",
    "a = list(map(int, sys_stdin.readline().split()))\n",
    "b = list(map(int, sys_stdin.readline().split()))\n",
    "print(a, b)\n",
    "\n",
    "a.sort()\n",
    "b.sort()\n",
    "print(a,b)\n",
    "\n",
    "idx = 0\n",
    "for _ in range(k):\n",
    "    b_tmp = b.pop()\n",
    "    if a[idx] < b_tmp:\n",
    "        a[idx] = b_tmp\n",
    "    else:\n",
    "         break\n",
    "    idx += 1\n",
    "        \n",
    "print(a)\n",
    "print(sum(a))\n"
   ]
  }
 ],
 "metadata": {
  "kernelspec": {
   "display_name": "base",
   "language": "python",
   "name": "python3"
  },
  "language_info": {
   "codemirror_mode": {
    "name": "ipython",
    "version": 3
   },
   "file_extension": ".py",
   "mimetype": "text/x-python",
   "name": "python",
   "nbconvert_exporter": "python",
   "pygments_lexer": "ipython3",
   "version": "3.9.12"
  },
  "orig_nbformat": 4
 },
 "nbformat": 4,
 "nbformat_minor": 2
}
